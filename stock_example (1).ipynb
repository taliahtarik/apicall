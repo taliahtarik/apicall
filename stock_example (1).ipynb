{
 "cells": [
  {
   "cell_type": "markdown",
   "id": "e562e345-7622-434f-a455-c2d0007b6a79",
   "metadata": {},
   "source": [
    "Yahoo Example for calling and aPI\n",
    "Tutorial here --> https://financeapi.net/\n",
    "1. You will need to get your API key\n",
    "2. Examine the demo page and sample data to be returned\n"
   ]
  },
  {
   "cell_type": "code",
   "execution_count": 16,
   "id": "6152718e-e56a-40a3-80c5-29215b30f516",
   "metadata": {},
   "outputs": [],
   "source": [
    "import json\n",
    "import pandas as pd\n",
    "import json\n",
    "import requests"
   ]
  },
  {
   "cell_type": "code",
   "execution_count": 17,
   "id": "012e806b-0d60-4330-80d6-797881126d0f",
   "metadata": {},
   "outputs": [
    {
     "name": "stdin",
     "output_type": "stream",
     "text": [
      " GOOG\n"
     ]
    }
   ],
   "source": [
    "#get stock from the user\n",
    "stock=input()\n"
   ]
  },
  {
   "cell_type": "code",
   "execution_count": 18,
   "id": "dbee80bb-960a-4349-a171-e410e80bcb42",
   "metadata": {},
   "outputs": [
    {
     "name": "stdout",
     "output_type": "stream",
     "text": [
      "The Stock we will research is:GOOG\n"
     ]
    }
   ],
   "source": [
    "print(\"The Stock we will research is:\" + stock)"
   ]
  },
  {
   "cell_type": "code",
   "execution_count": 32,
   "id": "452f35c5-e29b-424e-9646-42c088d01ac8",
   "metadata": {},
   "outputs": [
    {
     "name": "stdout",
     "output_type": "stream",
     "text": [
      "{\"quoteResponse\":{\"result\":[{\"language\":\"en-US\",\"region\":\"US\",\"quoteType\":\"EQUITY\",\"typeDisp\":\"Equity\",\"quoteSourceName\":\"Nasdaq Real Time Price\",\"triggerable\":true,\"customPriceAlertConfidence\":\"HIGH\",\"currency\":\"USD\",\"marketState\":\"CLOSED\",\"regularMarketChangePercent\":-0.44802186,\"regularMarketPrice\":133.32,\"exchange\":\"NMS\",\"shortName\":\"Alphabet Inc.\",\"longName\":\"Alphabet Inc.\",\"messageBoardId\":\"finmb_29096\",\"exchangeTimezoneName\":\"America/New_York\",\"exchangeTimezoneShortName\":\"EST\",\"gmtOffSetMilliseconds\":-18000000,\"market\":\"us_market\",\"esgPopulated\":false,\"firstTradeDateMilliseconds\":1092922200000,\"priceHint\":2,\"postMarketChangePercent\":0.142505,\"postMarketTime\":1701478798,\"postMarketPrice\":133.51,\"postMarketChange\":0.189987,\"regularMarketChange\":-0.59999084,\"regularMarketTime\":1701464401,\"regularMarketDayHigh\":133.5,\"regularMarketDayRange\":\"132.16 - 133.5\",\"regularMarketDayLow\":132.16,\"regularMarketVolume\":24267987,\"regularMarketPreviousClose\":133.92,\"bid\":133.32,\"ask\":133.51,\"bidSize\":13,\"askSize\":9,\"fullExchangeName\":\"NasdaqGS\",\"financialCurrency\":\"USD\",\"regularMarketOpen\":133.32,\"averageDailyVolume3Month\":20915866,\"averageDailyVolume10Day\":19903770,\"fiftyTwoWeekLowChange\":47.750008,\"fiftyTwoWeekLowChangePercent\":0.55802274,\"fiftyTwoWeekRange\":\"85.57 - 142.38\",\"fiftyTwoWeekHighChange\":-9.059998,\"fiftyTwoWeekHighChangePercent\":-0.06363251,\"fiftyTwoWeekLow\":85.57,\"fiftyTwoWeekHigh\":142.38,\"fiftyTwoWeekChangePercent\":33.49354,\"earningsTimestampStart\":1706734800,\"earningsTimestampEnd\":1707166800,\"trailingAnnualDividendRate\":0.0,\"trailingPE\":25.491398,\"trailingAnnualDividendYield\":0.0,\"epsTrailingTwelveMonths\":5.23,\"epsForward\":6.63,\"epsCurrentYear\":5.74,\"priceEpsCurrentYear\":23.226482,\"sharesOutstanding\":5725000192,\"bookValue\":21.785,\"fiftyDayAverage\":134.6532,\"fiftyDayAverageChange\":-1.3331909,\"marketCap\":1658847625216,\"fiftyDayAverageChangePercent\":-0.009900923,\"twoHundredDayAverage\":121.56743,\"twoHundredDayAverageChange\":11.752579,\"twoHundredDayAverageChangePercent\":0.09667539,\"forwardPE\":20.108599,\"priceToBook\":6.1198077,\"sourceInterval\":15,\"exchangeDataDelayedBy\":0,\"averageAnalystRating\":\"1.7 - Buy\",\"tradeable\":false,\"cryptoTradeable\":false,\"displayName\":\"Alphabet\",\"symbol\":\"GOOG\"}],\"error\":null}}\n"
     ]
    }
   ],
   "source": [
    "apikey=\"F0Yaedxsl23Z1ZKpSK45Z7c2DWxFAGi54UJ0ODsU\"\n",
    "\n",
    "url = \"https://yfapi.net/v6/finance/quote\"\n",
    "\n",
    "querystring = {\"symbols\":stock}\n",
    "\n",
    "headers = {\n",
    "    'x-api-key': apikey\n",
    "    }\n",
    "\n",
    "response = requests.request(\"GET\", url, headers=headers, params=querystring)\n",
    "response = requests.get(url, headers=headers, params=querystring)\n",
    "\n",
    "print(response.text)\n"
   ]
  },
  {
   "cell_type": "markdown",
   "id": "caf2e9c8-36c7-4fb2-8426-733c24d13c92",
   "metadata": {},
   "source": [
    "\n",
    "\n",
    "stock_json = response.json()\n",
    "print(stock_json['quoteResponse']['result'][0][\"displayName\"] + \" Price:$\" + str(stock_json['quoteResponse']['result'][0][\"regularMarketPrice\"]))"
   ]
  },
  {
   "cell_type": "code",
   "execution_count": 33,
   "id": "dd900693-c177-4b85-9e66-461e777b25d5",
   "metadata": {},
   "outputs": [
    {
     "name": "stdout",
     "output_type": "stream",
     "text": [
      "Alphabet Inc.GOOG Price:$133.32\n"
     ]
    },
    {
     "data": {
      "text/plain": [
       "'133.32'"
      ]
     },
     "execution_count": 33,
     "metadata": {},
     "output_type": "execute_result"
    }
   ],
   "source": [
    "stock_json = response.json() \n",
    "print(stock_json['quoteResponse']['result'][0][\"longName\"] + stock_json['quoteResponse']['result'][0][\"symbol\"] + \" Price:$\" + str(stock_json['quoteResponse']['result'][0][\"regularMarketPrice\"]))\n",
    "\n",
    "curr_price =  str(stock_json['quoteResponse']['result'][0][\"regularMarketPrice\"])\n",
    "curr_price\n"
   ]
  },
  {
   "cell_type": "code",
   "execution_count": 34,
   "id": "ecb7e87d-51f0-4888-9e11-4ebc5cadb798",
   "metadata": {},
   "outputs": [
    {
     "ename": "SyntaxError",
     "evalue": "invalid syntax (3073433097.py, line 21)",
     "output_type": "error",
     "traceback": [
      "\u001b[1;36m  Cell \u001b[1;32mIn[34], line 21\u001b[1;36m\u001b[0m\n\u001b[1;33m    print(result)\u001b[0m\n\u001b[1;37m    ^\u001b[0m\n\u001b[1;31mSyntaxError\u001b[0m\u001b[1;31m:\u001b[0m invalid syntax\n"
     ]
    }
   ],
   "source": [
    "url2 = \"https://yfapi.net/v11/finance/quoteSummary/\"+stock\n",
    "url3= \"https://yfapi.net/v6/finance/\" +stock\n",
    "apikey=\"F0Yaedxsl23Z1ZKpSK45Z7c2DWxFAGi54UJ0ODsU\"\n",
    "headers = {\n",
    "    'x-api-key': apikey\n",
    "    }\n",
    "params = {\n",
    "    'modules': \"finanicalData\"\n",
    "}\n",
    "   \n",
    "\n",
    "\n",
    "querystring = {\"modules\":\"financialData\" }\n",
    "response = requests.request(\"GET\", url2, headers=headers, params=querystring)\n",
    "#response = requests.get(url, headers=headers, params=querystring)\n",
    "result = response.json() \n",
    "avg_mean = str(result['quoteSummary']['result'][0][\"financialData\"][\"targetMeanPrice\"][\"fmt\"])\n",
    "cash  =  str(result['quoteSummary']['result'][0][\"financialData\"]['totalCash']['fmt'])\n",
    "price = curr_price\n",
    "longname=(stock_json['quoteResponse']['result'][0][\"longName\"]\n",
    "\n",
    "print(result)\n",
    "    \n",
    "\n"
   ]
  },
  {
   "cell_type": "code",
   "execution_count": 31,
   "id": "01192908-b1e5-4524-8c94-1ab353ac76b4",
   "metadata": {},
   "outputs": [
    {
     "ename": "SyntaxError",
     "evalue": "invalid syntax (273008610.py, line 4)",
     "output_type": "error",
     "traceback": [
      "\u001b[1;36m  Cell \u001b[1;32mIn[31], line 4\u001b[1;36m\u001b[0m\n\u001b[1;33m    \"Current Price\": [stock['regularMarketPrice']],\u001b[0m\n\u001b[1;37m    ^\u001b[0m\n\u001b[1;31mSyntaxError\u001b[0m\u001b[1;31m:\u001b[0m invalid syntax\n"
     ]
    }
   ],
   "source": [
    "data = {\n",
    "    \"Ticker\": [stock],\n",
    "    \"Full Name\":(stock_json['quoteResponse']['result'][0][\"longName\"]\n",
    "    \"Current Price\": [stock['regularMarketPrice']],\n",
    "    \"Target Mean Price\":  str(result['quoteSummary']['result'][0][\"financialData\"][\"targetMeanPrice\"][\"fmt\"]),\n",
    "    \"Cash on Hand\": cash,\n",
    "    \"Gross Profits\": [stock_data['financialData']['grossProfits']['raw']]\n",
    "}\n",
    "df = pd.DataFrame(data)\n",
    "df.to_csv()\n",
    "df.to_json('GOOG'.json)\n",
    "print(df)\n",
    "\n",
    "def to_csv(df):\n",
    "    return df.to_csv\n",
    "def to_json(df):\n",
    "    return df.to.json\n",
    "def csv_jason(df):\n",
    "    return to_json, to_csv"
   ]
  },
  {
   "cell_type": "code",
   "execution_count": null,
   "id": "bb7a0f69-350d-4120-b126-64ba911426fb",
   "metadata": {},
   "outputs": [],
   "source": [
    "\n"
   ]
  },
  {
   "cell_type": "code",
   "execution_count": null,
   "id": "a3a3d193-ad1c-4c0c-98ed-8708b21b8c06",
   "metadata": {},
   "outputs": [],
   "source": []
  }
 ],
 "metadata": {
  "kernelspec": {
   "display_name": "Python 3 (ipykernel)",
   "language": "python",
   "name": "python3"
  },
  "language_info": {
   "codemirror_mode": {
    "name": "ipython",
    "version": 3
   },
   "file_extension": ".py",
   "mimetype": "text/x-python",
   "name": "python",
   "nbconvert_exporter": "python",
   "pygments_lexer": "ipython3",
   "version": "3.8.16"
  }
 },
 "nbformat": 4,
 "nbformat_minor": 5
}
